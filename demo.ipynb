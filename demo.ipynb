{
 "cells": [
  {
   "cell_type": "code",
   "execution_count": null,
   "metadata": {},
   "outputs": [],
   "source": [
    "%load_ext gradio"
   ]
  },
  {
   "cell_type": "code",
   "execution_count": null,
   "metadata": {},
   "outputs": [],
   "source": [
    "import gradio as gr\n",
    "from modules import op_tinker, op_ffmpeg, symbols\n",
    "import os"
   ]
  },
  {
   "cell_type": "code",
   "execution_count": null,
   "metadata": {},
   "outputs": [],
   "source": [
    "css = ''\n",
    "\n",
    "if os.path.exists('style.css'):\n",
    "    with open(os.path.join('style.css'), 'r', encoding='utf8') as file: \n",
    "        print('Load CSS...')\n",
    "        css += file.read() + '\\n'"
   ]
  },
  {
   "cell_type": "code",
   "execution_count": null,
   "metadata": {},
   "outputs": [],
   "source": [
    "def movie_extractor_ui():\n",
    "    with gr.Blocks() as ui:\n",
    "        with gr.Accordion(\"Movie Extractor\", open=True):\n",
    "            ext_filter = gr.JSON(value={'extension filter':[(\"video files\",\"*.avi;*.mp4;*.mov;*.mkv\"),]}, visible=False)\n",
    "            with gr.Group():\n",
    "                with gr.Row():\n",
    "                    movie_file_path = gr.Textbox(label=\"Movie file for extract\", value=\"\", interactive=True, placeholder=\"Movie file for extract\", scale=1, show_label=False)\n",
    "                    movie_file_button = gr.Button(symbols.folder_symbol, elem_id='open_folder_small')\n",
    "                    target_folder_path = gr.Textbox(label=\"extract files to\", value=\"\", interactive=True, placeholder=\"extract files to\", scale=1, show_label=False)\n",
    "                    target_folder_button = gr.Button(symbols.folder_symbol, elem_id='open_folder_small')\n",
    "                with gr.Row():\n",
    "                    keyframe_type = gr.Radio(choices=[\"Full\", \"I\",\"B\",\"P\"], label=\"Keyframe Type ( pict_type )\", interactive=True,value=\"Full\")\n",
    "                    scene_sensitivity = gr.Slider(0, 1, value=0.3, label=\"scene sensitivity\", info=\"(0 = Disable)\", interactive=True, step=0.01)\n",
    "                    blur_sensitivity = gr.Slider(0, 16, value=6, label=\"blur sensitivity\", info=\"(if < 6 will very slow)\", interactive=True, step=1)\n",
    "                    frame_step = gr.Slider(1, 100, value=1, label=\"Extract every nth frame\", info=\"(1 = Perframe)\", interactive=True, step=1)\n",
    "                    extract_format = gr.Radio(value=\".png\", choices=[\".jpg\",\".png\",\".webp\"], label=\"extract format\",)\n",
    "                with gr.Row():\n",
    "                    overwrite_exist = gr.Checkbox(value=True, label=\"Overwrite exist files\",interactive=True)\n",
    "                    \n",
    "                extract_frames_button = gr.Button(value=\"Extract Frames\")\n",
    "                \n",
    "        movie_file_button.click(op_tinker.file_browser, \n",
    "                                inputs=[ext_filter], \n",
    "                                outputs=movie_file_path, \n",
    "                                show_progress=\"hidden\")\n",
    "        \n",
    "        target_folder_button.click(op_tinker.folder_browser, \n",
    "                                inputs=[], \n",
    "                                outputs=target_folder_path, \n",
    "                                show_progress=\"hidden\")\n",
    "\n",
    "\n",
    "        extract_frames_button.click(op_ffmpeg.extract_mov_frames,\n",
    "                                    inputs=[movie_file_path, target_folder_path, keyframe_type, scene_sensitivity, blur_sensitivity, frame_step, overwrite_exist, extract_format],\n",
    "                                    outputs=[],)\n",
    "\n",
    "    return ui"
   ]
  },
  {
   "cell_type": "code",
   "execution_count": null,
   "metadata": {},
   "outputs": [],
   "source": [
    "def batch_process_ui():\n",
    "    with gr.Blocks() as ui:\n",
    "        with gr.Accordion(\"Batch Process\", open=True):\n",
    "            with gr.Group():\n",
    "                with gr.Row():\n",
    "                    target_folder_path = gr.Textbox(label=\"image files folder\", value=\"\", interactive=True, placeholder=\"extract files to\", scale=4, show_label=True)\n",
    "                    target_folder_button = gr.Button(symbols.folder_symbol, elem_id='open_folder_small')\n",
    "                    img_exts = gr.Textbox(label=\"Image file ext (separated by ,)\", value=\"jpg,png,webp\", interactive=True,)\n",
    "                    file_count = gr.Number(value=0, label=\"file count\", minimum=1,step=1, interactive=False,) \n",
    "            with gr.Group():\n",
    "                image_process = gr.CheckboxGroup([\"Resize\", \"Crop\", \"Upscale\"], label=\"Image Process\")\n",
    "                image_process_button = gr.Button(value=\"Process\", variant=\"primary\")\n",
    "                        \n",
    "                        \n",
    "        target_folder_button.click(op_tinker.get_image_folder, \n",
    "                                inputs=[img_exts], \n",
    "                                outputs=[target_folder_path, file_count], \n",
    "                                show_progress=\"hidden\")\n",
    "    \n",
    "    return ui"
   ]
  },
  {
   "cell_type": "code",
   "execution_count": null,
   "metadata": {},
   "outputs": [],
   "source": [
    "%%blocks\n",
    "\n",
    "with gr.Blocks(css=css, title='MoonShot Trainer GUI', theme=gr.themes.Default()) as demo:\n",
    "    with gr.Row():\n",
    "        movie_extractor_ui()\n",
    "    with gr.Row():\n",
    "        batch_process_ui()"
   ]
  }
 ],
 "metadata": {
  "kernelspec": {
   "display_name": "venv",
   "language": "python",
   "name": "python3"
  },
  "language_info": {
   "codemirror_mode": {
    "name": "ipython",
    "version": 3
   },
   "file_extension": ".py",
   "mimetype": "text/x-python",
   "name": "python",
   "nbconvert_exporter": "python",
   "pygments_lexer": "ipython3",
   "version": "3.10.11"
  }
 },
 "nbformat": 4,
 "nbformat_minor": 2
}
